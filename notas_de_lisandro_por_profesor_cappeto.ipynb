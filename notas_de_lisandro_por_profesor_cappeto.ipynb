{
  "nbformat": 4,
  "nbformat_minor": 0,
  "metadata": {
    "colab": {
      "provenance": [],
      "include_colab_link": true
    },
    "kernelspec": {
      "name": "python3",
      "display_name": "Python 3"
    },
    "language_info": {
      "name": "python"
    }
  },
  "cells": [
    {
      "cell_type": "markdown",
      "metadata": {
        "id": "view-in-github",
        "colab_type": "text"
      },
      "source": [
        "<a href=\"https://colab.research.google.com/github/lisandro1940/docentes-y-alumnos/blob/lisandro-nota-1-matematica/notas_de_lisandro_por_profesor_cappeto.ipynb\" target=\"_parent\"><img src=\"https://colab.research.google.com/assets/colab-badge.svg\" alt=\"Open In Colab\"/></a>"
      ]
    },
    {
      "cell_type": "code",
      "source": [
        "import random\n",
        "\n",
        "# Función para generar notas aleatorias en el rango de 7 a 10\n",
        "def generar_notas():\n",
        "    return [random.randint(7, 10) for _ in range(3)]\n",
        "\n",
        "# Datos de Lisandro Gabriel Chavez\n",
        "notas_trimestre1 = generar_notas()\n",
        "notas_trimestre2 = generar_notas()\n",
        "notas_trimestre3 = generar_notas()\n",
        "\n",
        "# Promedio de cada trimestre\n",
        "promedio_trimestre1 = sum(notas_trimestre1) / len(notas_trimestre1)\n",
        "promedio_trimestre2 = sum(notas_trimestre2) / len(notas_trimestre2)\n",
        "promedio_trimestre3 = sum(notas_trimestre3) / len(notas_trimestre3)\n",
        "\n",
        "# Promedio general\n",
        "promedio_general = (promedio_trimestre1 + promedio_trimestre2 + promedio_trimestre3) / 3\n",
        "\n",
        "# Imprimir información\n",
        "print(\"Alumno: Chavez, Lisandro Gabriel\")\n",
        "print(\"Profesor: Ivo Giuliano Cappetto\")\n",
        "print(\"Materia: Matemática\")\n",
        "print(\"Trimestre 1 - Notas: \", notas_trimestre1, \" - Promedio: {:.2f}\".format(promedio_trimestre1))\n",
        "print(\"Trimestre 2 - Notas: \", notas_trimestre2, \" - Promedio: {:.2f}\".format(promedio_trimestre2))\n",
        "print(\"Trimestre 3 - Notas: \", notas_trimestre3, \" - Promedio: {:.2f}\".format(promedio_trimestre3))\n",
        "print(\"Promedio General: {:.2f}\".format(promedio_general))\n"
      ],
      "metadata": {
        "colab": {
          "base_uri": "https://localhost:8080/"
        },
        "id": "2GtejG2gVGEI",
        "outputId": "c17b9006-ecc7-4724-a360-8c656435927c"
      },
      "execution_count": 11,
      "outputs": [
        {
          "output_type": "stream",
          "name": "stdout",
          "text": [
            "Alumno: Chavez, Lisandro Gabriel\n",
            "Profesor: Ivo Giuliano Cappetto\n",
            "Materia: Matemática\n",
            "Trimestre 1 - Notas:  [10, 10, 9]  - Promedio: 9.67\n",
            "Trimestre 2 - Notas:  [7, 7, 10]  - Promedio: 8.00\n",
            "Trimestre 3 - Notas:  [9, 9, 7]  - Promedio: 8.33\n",
            "Promedio General: 8.67\n"
          ]
        }
      ]
    }
  ]
}