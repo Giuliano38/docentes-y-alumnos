import random

# Función para generar notas aleatorias en el rango de 5 a 10
def generar_notas():
    return [random.randint(6, 10) for _ in range(3)]

# Datos de Marcos Antonio Ceballos
notas_trimestre1 = generar_notas()
notas_trimestre2 = generar_notas()
notas_trimestre3 = generar_notas()

# Promedio de cada trimestre
promedio_trimestre1 = sum(notas_trimestre1) / len(notas_trimestre1)
promedio_trimestre2 = sum(notas_trimestre2) / len(notas_trimestre2)
promedio_trimestre3 = sum(notas_trimestre3) / len(notas_trimestre3)

# Promedio general
promedio_general = (promedio_trimestre1 + promedio_trimestre2 + promedio_trimestre3) / 3

# Evaluar al alumno en cada trimestre
evaluacion_trimestre1 = "Aprobado" if promedio_trimestre1 >= 7 else "Reprobado"
evaluacion_trimestre2 = "Aprobado" if promedio_trimestre2 >= 7 else "Reprobado"
evaluacion_trimestre3 = "Aprobado" if promedio_trimestre3 >= 7 else "Reprobado"

# Evaluar al alumno en general
evaluacion_general = "Aprobado" if promedio_general >= 7 else "Reprobado"

# Imprimir información
print("Alumno: Ceballos, Marcos Antonio")
print("Profesor: Ivo Giuliano Cappetto")
print("Materia: Matemática")
print("Trimestre 1 - Notas: ", notas_trimestre1, " - Promedio: {:.2f}".format(promedio_trimestre1), " - Evaluación: ", evaluacion_trimestre1)
print("Trimestre 2 - Notas: ", notas_trimestre2, " - Promedio: {:.2f}".format(promedio_trimestre2), " - Evaluación: ", evaluacion_trimestre2)
print("Trimestre 3 - Notas: ", notas_trimestre3, " - Promedio: {:.2f}".format(promedio_trimestre3), " - Evaluación: ", evaluacion_trimestre3)
print("Promedio General: {:.2f}".format(promedio_general), " - Evaluación: ", evaluacion_general)
