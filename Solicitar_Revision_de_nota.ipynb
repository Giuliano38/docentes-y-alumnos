{
  "nbformat": 4,
  "nbformat_minor": 0,
  "metadata": {
    "colab": {
      "provenance": [],
      "authorship_tag": "ABX9TyMUg3+Rf2S4a32/GPgFyMMd",
      "include_colab_link": true
    },
    "kernelspec": {
      "name": "python3",
      "display_name": "Python 3"
    },
    "language_info": {
      "name": "python"
    }
  },
  "cells": [
    {
      "cell_type": "markdown",
      "metadata": {
        "id": "view-in-github",
        "colab_type": "text"
      },
      "source": [
        "<a href=\"https://colab.research.google.com/github/lisandro1940/docentes-y-alumnos/blob/Revision-nota/Solicitar_Revision_de_nota.ipynb\" target=\"_parent\"><img src=\"https://colab.research.google.com/assets/colab-badge.svg\" alt=\"Open In Colab\"/></a>"
      ]
    },
    {
      "cell_type": "code",
      "execution_count": null,
      "metadata": {
        "colab": {
          "base_uri": "https://localhost:8080/"
        },
        "id": "Mmpm6oEuY4PR",
        "outputId": "a2ee2f63-215d-42c7-ee80-870a24444416"
      },
      "outputs": [
        {
          "output_type": "stream",
          "name": "stdout",
          "text": [
            "Bienvenido(a) al sistema de revisión de notas\n",
            "Ingresa tu nombre completo: lisandro chavez\n",
            "\n",
            "Hola, lisandro chavez.\n",
            "\n",
            "No se encontró el estudiante 'lisandro chavez'. Abriendo notas para 'Lisandro'...\n",
            "Notas de Lisandro:\n",
            "\n",
            "Trimestre 1:\n",
            "Notas: [9, 8, 7]\n",
            "Promedio: 8.0\n",
            "\n",
            "Trimestre 2:\n",
            "Notas: [7, 6, 8]\n",
            "Promedio: 7.0\n",
            "\n",
            "Trimestre 3:\n",
            "Notas: [9, 9, 10]\n",
            "Promedio: 9.333333333333334\n"
          ]
        }
      ],
      "source": [
        "import difflib\n",
        "\n",
        "# Diccionario de notas por trimestre\n",
        "notas = {\n",
        "    \"Lisandro\": {\n",
        "        \"Trimestre 1\": [9, 8, 7],\n",
        "        \"Trimestre 2\": [7, 6, 8],\n",
        "        \"Trimestre 3\": [9, 9, 10]\n",
        "    },\n",
        "    \"Marcos\": {\n",
        "        \"Trimestre 1\": [8, 9, 10],\n",
        "        \"Trimestre 2\": [9, 7, 8],\n",
        "        \"Trimestre 3\": [7, 8, 9]\n",
        "    }\n",
        "}\n",
        "\n",
        "# Función para mostrar las notas de un estudiante en cada trimestre\n",
        "def mostrar_notas(estudiante):\n",
        "    if estudiante in notas:\n",
        "        print(f\"Notas de {estudiante}:\")\n",
        "        for trimestre, notas_trimestre in notas[estudiante].items():\n",
        "            promedio_trimestre = sum(notas_trimestre) / len(notas_trimestre)\n",
        "            print(f\"\\n{trimestre}:\")\n",
        "            print(f\"Notas: {notas_trimestre}\")\n",
        "            print(f\"Promedio: {promedio_trimestre}\")\n",
        "    else:\n",
        "        print(\"Estudiante no encontrado\")\n",
        "\n",
        "# Función para buscar el estudiante más parecido al nombre ingresado\n",
        "def buscar_estudiante(nombre):\n",
        "    estudiante_mas_parecido = difflib.get_close_matches(nombre, notas.keys(), n=1, cutoff=0.6)\n",
        "    if estudiante_mas_parecido:\n",
        "        estudiante = estudiante_mas_parecido[0]\n",
        "        print(f\"No se encontró el estudiante '{nombre}'. Abriendo notas para '{estudiante}'...\")\n",
        "        mostrar_notas(estudiante)\n",
        "    else:\n",
        "        print(f\"No se encontró el estudiante '{nombre}'\")\n",
        "\n",
        "# Función principal para que el estudiante revise las notas\n",
        "def revisar_notas():\n",
        "    print(\"Bienvenido(a) al sistema de revisión de notas\")\n",
        "    nombre_estudiante = input(\"Ingresa tu nombre completo: \")\n",
        "    print(f\"\\nHola, {nombre_estudiante}.\\n\")\n",
        "    buscar_estudiante(nombre_estudiante)\n",
        "\n",
        "# Ejecutar la función principal\n",
        "revisar_notas()\n"
      ]
    }
  ]
}