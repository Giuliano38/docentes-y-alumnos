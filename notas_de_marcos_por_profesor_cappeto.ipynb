{
  "nbformat": 4,
  "nbformat_minor": 0,
  "metadata": {
    "colab": {
      "provenance": [],
      "include_colab_link": true
    },
    "kernelspec": {
      "name": "python3",
      "display_name": "Python 3"
    },
    "language_info": {
      "name": "python"
    }
  },
  "cells": [
    {
      "cell_type": "markdown",
      "metadata": {
        "id": "view-in-github",
        "colab_type": "text"
      },
      "source": [
        "<a href=\"https://colab.research.google.com/github/lisandro1940/docentes-y-alumnos/blob/marcos-nota-1-matematica/notas_de_marcos_por_profesor_cappeto.ipynb\" target=\"_parent\"><img src=\"https://colab.research.google.com/assets/colab-badge.svg\" alt=\"Open In Colab\"/></a>"
      ]
    },
    {
      "cell_type": "code",
      "source": [
        "import random\n",
        "\n",
        "# Función para generar notas aleatorias en el rango de 5 a 10\n",
        "def generar_notas():\n",
        "    return [random.randint(5, 10) for _ in range(3)]\n",
        "\n",
        "# Datos de Ceballos, Marcos Antonio\n",
        "notas_trimestre1 = generar_notas()\n",
        "notas_trimestre2 = generar_notas()\n",
        "notas_trimestre3 = generar_notas()\n",
        "\n",
        "# Promedio de cada trimestre\n",
        "promedio_trimestre1 = sum(notas_trimestre1) / len(notas_trimestre1)\n",
        "promedio_trimestre2 = sum(notas_trimestre2) / len(notas_trimestre2)\n",
        "promedio_trimestre3 = sum(notas_trimestre3) / len(notas_trimestre3)\n",
        "\n",
        "# Promedio general\n",
        "promedio_general = (promedio_trimestre1 + promedio_trimestre2 + promedio_trimestre3) / 3\n",
        "\n",
        "# Imprimir información\n",
        "print(\"Alumno: Ceballos, Marcos Antonio\")\n",
        "print(\"Profesor: Ivo Giuliano Cappetto\")\n",
        "print(\"Materia: Matemática\")\n",
        "print(\"Trimestre 1 - Notas: \", notas_trimestre1, \" - Promedio: {:.2f}\".format(promedio_trimestre1))\n",
        "print(\"Trimestre 2 - Notas: \", notas_trimestre2, \" - Promedio: {:.2f}\".format(promedio_trimestre2))\n",
        "print(\"Trimestre 3 - Notas: \", notas_trimestre3, \" - Promedio: {:.2f}\".format(promedio_trimestre3))\n",
        "print(\"Promedio General: {:.2f}\".format(promedio_general))\n"
      ],
      "metadata": {
        "colab": {
          "base_uri": "https://localhost:8080/"
        },
        "id": "ccT61G7tYWmG",
        "outputId": "b942b3b5-637e-4da6-8828-aa8c41625713"
      },
      "execution_count": 1,
      "outputs": [
        {
          "output_type": "stream",
          "name": "stdout",
          "text": [
            "Alumno: Ceballos, Marcos Antonio\n",
            "Profesor: Ivo Giuliano Cappetto\n",
            "Materia: Matemática\n",
            "Trimestre 1 - Notas:  [5, 9, 9]  - Promedio: 7.67\n",
            "Trimestre 2 - Notas:  [6, 6, 5]  - Promedio: 5.67\n",
            "Trimestre 3 - Notas:  [8, 6, 9]  - Promedio: 7.67\n",
            "Promedio General: 7.00\n"
          ]
        }
      ]
    }
  ]
}